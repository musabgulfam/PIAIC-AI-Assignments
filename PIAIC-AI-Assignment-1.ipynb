{
 "cells": [
  {
   "cell_type": "code",
   "execution_count": 1,
   "metadata": {},
   "outputs": [],
   "source": [
    "import numpy as np"
   ]
  },
  {
   "cell_type": "code",
   "execution_count": 2,
   "metadata": {},
   "outputs": [],
   "source": [
    "narray = np.arange(15).reshape(3, 5)"
   ]
  },
  {
   "cell_type": "code",
   "execution_count": 3,
   "metadata": {},
   "outputs": [
    {
     "data": {
      "text/plain": [
       "array([[ 0,  1,  2,  3,  4],\n",
       "       [ 5,  6,  7,  8,  9],\n",
       "       [10, 11, 12, 13, 14]])"
      ]
     },
     "execution_count": 3,
     "metadata": {},
     "output_type": "execute_result"
    }
   ],
   "source": [
    "narray"
   ]
  },
  {
   "cell_type": "code",
   "execution_count": 4,
   "metadata": {},
   "outputs": [
    {
     "data": {
      "text/plain": [
       "(3, 5)"
      ]
     },
     "execution_count": 4,
     "metadata": {},
     "output_type": "execute_result"
    }
   ],
   "source": [
    "narray.shape"
   ]
  },
  {
   "cell_type": "code",
   "execution_count": 5,
   "metadata": {},
   "outputs": [
    {
     "data": {
      "text/plain": [
       "2"
      ]
     },
     "execution_count": 5,
     "metadata": {},
     "output_type": "execute_result"
    }
   ],
   "source": [
    "narray.ndim"
   ]
  },
  {
   "cell_type": "code",
   "execution_count": 6,
   "metadata": {},
   "outputs": [
    {
     "data": {
      "text/plain": [
       "'int32'"
      ]
     },
     "execution_count": 6,
     "metadata": {},
     "output_type": "execute_result"
    }
   ],
   "source": [
    "narray.dtype.name"
   ]
  },
  {
   "cell_type": "code",
   "execution_count": 7,
   "metadata": {},
   "outputs": [
    {
     "data": {
      "text/plain": [
       "4"
      ]
     },
     "execution_count": 7,
     "metadata": {},
     "output_type": "execute_result"
    }
   ],
   "source": [
    "narray.itemsize"
   ]
  },
  {
   "cell_type": "code",
   "execution_count": 8,
   "metadata": {},
   "outputs": [
    {
     "data": {
      "text/plain": [
       "<memory at 0x0000029D5051FE48>"
      ]
     },
     "execution_count": 8,
     "metadata": {},
     "output_type": "execute_result"
    }
   ],
   "source": [
    "narray.data"
   ]
  },
  {
   "cell_type": "code",
   "execution_count": 9,
   "metadata": {},
   "outputs": [
    {
     "data": {
      "text/plain": [
       "numpy.ndarray"
      ]
     },
     "execution_count": 9,
     "metadata": {},
     "output_type": "execute_result"
    }
   ],
   "source": [
    "type(narray)"
   ]
  },
  {
   "cell_type": "code",
   "execution_count": 10,
   "metadata": {},
   "outputs": [],
   "source": [
    "narray2 = np.linspace(5, 15, 100)"
   ]
  },
  {
   "cell_type": "code",
   "execution_count": 11,
   "metadata": {},
   "outputs": [
    {
     "data": {
      "text/plain": [
       "array([ 5.        ,  5.1010101 ,  5.2020202 ,  5.3030303 ,  5.4040404 ,\n",
       "        5.50505051,  5.60606061,  5.70707071,  5.80808081,  5.90909091,\n",
       "        6.01010101,  6.11111111,  6.21212121,  6.31313131,  6.41414141,\n",
       "        6.51515152,  6.61616162,  6.71717172,  6.81818182,  6.91919192,\n",
       "        7.02020202,  7.12121212,  7.22222222,  7.32323232,  7.42424242,\n",
       "        7.52525253,  7.62626263,  7.72727273,  7.82828283,  7.92929293,\n",
       "        8.03030303,  8.13131313,  8.23232323,  8.33333333,  8.43434343,\n",
       "        8.53535354,  8.63636364,  8.73737374,  8.83838384,  8.93939394,\n",
       "        9.04040404,  9.14141414,  9.24242424,  9.34343434,  9.44444444,\n",
       "        9.54545455,  9.64646465,  9.74747475,  9.84848485,  9.94949495,\n",
       "       10.05050505, 10.15151515, 10.25252525, 10.35353535, 10.45454545,\n",
       "       10.55555556, 10.65656566, 10.75757576, 10.85858586, 10.95959596,\n",
       "       11.06060606, 11.16161616, 11.26262626, 11.36363636, 11.46464646,\n",
       "       11.56565657, 11.66666667, 11.76767677, 11.86868687, 11.96969697,\n",
       "       12.07070707, 12.17171717, 12.27272727, 12.37373737, 12.47474747,\n",
       "       12.57575758, 12.67676768, 12.77777778, 12.87878788, 12.97979798,\n",
       "       13.08080808, 13.18181818, 13.28282828, 13.38383838, 13.48484848,\n",
       "       13.58585859, 13.68686869, 13.78787879, 13.88888889, 13.98989899,\n",
       "       14.09090909, 14.19191919, 14.29292929, 14.39393939, 14.49494949,\n",
       "       14.5959596 , 14.6969697 , 14.7979798 , 14.8989899 , 15.        ])"
      ]
     },
     "execution_count": 11,
     "metadata": {},
     "output_type": "execute_result"
    }
   ],
   "source": [
    "narray2"
   ]
  },
  {
   "cell_type": "code",
   "execution_count": 12,
   "metadata": {},
   "outputs": [],
   "source": [
    "narray_zero = np.zeros((3, 3))"
   ]
  },
  {
   "cell_type": "code",
   "execution_count": 13,
   "metadata": {},
   "outputs": [
    {
     "data": {
      "text/plain": [
       "array([[0., 0., 0.],\n",
       "       [0., 0., 0.],\n",
       "       [0., 0., 0.]])"
      ]
     },
     "execution_count": 13,
     "metadata": {},
     "output_type": "execute_result"
    }
   ],
   "source": [
    "narray_zero"
   ]
  },
  {
   "cell_type": "code",
   "execution_count": 14,
   "metadata": {},
   "outputs": [],
   "source": [
    "npRepeatArray = np.repeat('10', 20)"
   ]
  },
  {
   "cell_type": "code",
   "execution_count": 15,
   "metadata": {},
   "outputs": [
    {
     "data": {
      "text/plain": [
       "array(['10', '10', '10', '10', '10', '10', '10', '10', '10', '10', '10',\n",
       "       '10', '10', '10', '10', '10', '10', '10', '10', '10'], dtype='<U2')"
      ]
     },
     "execution_count": 15,
     "metadata": {},
     "output_type": "execute_result"
    }
   ],
   "source": [
    "npRepeatArray"
   ]
  },
  {
   "cell_type": "code",
   "execution_count": 16,
   "metadata": {},
   "outputs": [
    {
     "data": {
      "text/plain": [
       "numpy.ndarray"
      ]
     },
     "execution_count": 16,
     "metadata": {},
     "output_type": "execute_result"
    }
   ],
   "source": [
    "type(npRepeatArray)"
   ]
  },
  {
   "cell_type": "code",
   "execution_count": 26,
   "metadata": {},
   "outputs": [],
   "source": [
    "np.random.shuffle(narray)"
   ]
  },
  {
   "cell_type": "code",
   "execution_count": 27,
   "metadata": {},
   "outputs": [
    {
     "name": "stdout",
     "output_type": "stream",
     "text": [
      "[[ 0  1  2  3  4]\n",
      " [ 5  6  7  8  9]\n",
      " [10 11 12 13 14]]\n"
     ]
    }
   ],
   "source": [
    "print(narray)"
   ]
  },
  {
   "cell_type": "code",
   "execution_count": 30,
   "metadata": {},
   "outputs": [
    {
     "data": {
      "text/plain": [
       "array([     0,  15120, 240240])"
      ]
     },
     "execution_count": 30,
     "metadata": {},
     "output_type": "execute_result"
    }
   ],
   "source": [
    "np.prod(narray, axis=1)"
   ]
  },
  {
   "cell_type": "code",
   "execution_count": 31,
   "metadata": {},
   "outputs": [
    {
     "data": {
      "text/plain": [
       "array([[False, False, False, False, False],\n",
       "       [False, False, False, False, False],\n",
       "       [False, False, False, False, False]])"
      ]
     },
     "execution_count": 31,
     "metadata": {},
     "output_type": "execute_result"
    }
   ],
   "source": [
    "np.signbit(narray)"
   ]
  },
  {
   "cell_type": "code",
   "execution_count": 33,
   "metadata": {},
   "outputs": [
    {
     "data": {
      "text/plain": [
       "array([0.2       , 0.1960396 , 0.19223301, 0.18857143, 0.18504673,\n",
       "       0.18165138, 0.17837838, 0.17522124, 0.17217391, 0.16923077,\n",
       "       0.16638655, 0.16363636, 0.16097561, 0.1584    , 0.15590551,\n",
       "       0.15348837, 0.15114504, 0.14887218, 0.14666667, 0.14452555,\n",
       "       0.14244604, 0.14042553, 0.13846154, 0.13655172, 0.13469388,\n",
       "       0.13288591, 0.13112583, 0.12941176, 0.12774194, 0.12611465,\n",
       "       0.1245283 , 0.12298137, 0.12147239, 0.12      , 0.11856287,\n",
       "       0.11715976, 0.11578947, 0.11445087, 0.11314286, 0.11186441,\n",
       "       0.11061453, 0.10939227, 0.10819672, 0.10702703, 0.10588235,\n",
       "       0.1047619 , 0.10366492, 0.10259067, 0.10153846, 0.10050761,\n",
       "       0.09949749, 0.09850746, 0.09753695, 0.09658537, 0.09565217,\n",
       "       0.09473684, 0.09383886, 0.09295775, 0.09209302, 0.09124424,\n",
       "       0.09041096, 0.08959276, 0.08878924, 0.088     , 0.08722467,\n",
       "       0.08646288, 0.08571429, 0.08497854, 0.08425532, 0.0835443 ,\n",
       "       0.08284519, 0.08215768, 0.08148148, 0.08081633, 0.08016194,\n",
       "       0.07951807, 0.07888446, 0.07826087, 0.07764706, 0.0770428 ,\n",
       "       0.07644788, 0.07586207, 0.07528517, 0.07471698, 0.0741573 ,\n",
       "       0.07360595, 0.07306273, 0.07252747, 0.072     , 0.07148014,\n",
       "       0.07096774, 0.07046263, 0.06996466, 0.06947368, 0.06898955,\n",
       "       0.06851211, 0.06804124, 0.06757679, 0.06711864, 0.06666667])"
      ]
     },
     "execution_count": 33,
     "metadata": {},
     "output_type": "execute_result"
    }
   ],
   "source": [
    "np.reciprocal(narray2)"
   ]
  },
  {
   "cell_type": "code",
   "execution_count": 34,
   "metadata": {},
   "outputs": [
    {
     "data": {
      "text/plain": [
       "array([[ 0,  1,  2,  3,  4],\n",
       "       [ 5,  6,  7,  8,  9],\n",
       "       [10, 11, 12, 13, 14]])"
      ]
     },
     "execution_count": 34,
     "metadata": {},
     "output_type": "execute_result"
    }
   ],
   "source": [
    "narray"
   ]
  },
  {
   "cell_type": "code",
   "execution_count": 35,
   "metadata": {},
   "outputs": [
    {
     "data": {
      "text/plain": [
       "array([15, 18, 21, 24, 27])"
      ]
     },
     "execution_count": 35,
     "metadata": {},
     "output_type": "execute_result"
    }
   ],
   "source": [
    "np.sum(narray, axis=0)"
   ]
  },
  {
   "cell_type": "code",
   "execution_count": 36,
   "metadata": {},
   "outputs": [
    {
     "data": {
      "text/plain": [
       "array([[1.00000000e+00, 2.71828183e+00, 7.38905610e+00, 2.00855369e+01,\n",
       "        5.45981500e+01],\n",
       "       [1.48413159e+02, 4.03428793e+02, 1.09663316e+03, 2.98095799e+03,\n",
       "        8.10308393e+03],\n",
       "       [2.20264658e+04, 5.98741417e+04, 1.62754791e+05, 4.42413392e+05,\n",
       "        1.20260428e+06]])"
      ]
     },
     "execution_count": 36,
     "metadata": {},
     "output_type": "execute_result"
    }
   ],
   "source": [
    "np.exp(narray)"
   ]
  },
  {
   "cell_type": "code",
   "execution_count": 37,
   "metadata": {},
   "outputs": [
    {
     "data": {
      "text/plain": [
       "array([[ 0.        ,  0.84147098,  0.90929743,  0.14112001, -0.7568025 ],\n",
       "       [-0.95892427, -0.2794155 ,  0.6569866 ,  0.98935825,  0.41211849],\n",
       "       [-0.54402111, -0.99999021, -0.53657292,  0.42016704,  0.99060736]])"
      ]
     },
     "execution_count": 37,
     "metadata": {},
     "output_type": "execute_result"
    }
   ],
   "source": [
    "np.sin(narray)"
   ]
  },
  {
   "cell_type": "code",
   "execution_count": 39,
   "metadata": {},
   "outputs": [
    {
     "data": {
      "text/plain": [
       "array([[ 1.        ,  0.54030231, -0.41614684, -0.9899925 , -0.65364362],\n",
       "       [ 0.28366219,  0.96017029,  0.75390225, -0.14550003, -0.91113026],\n",
       "       [-0.83907153,  0.0044257 ,  0.84385396,  0.90744678,  0.13673722]])"
      ]
     },
     "execution_count": 39,
     "metadata": {},
     "output_type": "execute_result"
    }
   ],
   "source": [
    "np.cos(narray)"
   ]
  },
  {
   "cell_type": "code",
   "execution_count": 40,
   "metadata": {},
   "outputs": [
    {
     "data": {
      "text/plain": [
       "array([[ 0.00000000e+00,  1.55740772e+00, -2.18503986e+00,\n",
       "        -1.42546543e-01,  1.15782128e+00],\n",
       "       [-3.38051501e+00, -2.91006191e-01,  8.71447983e-01,\n",
       "        -6.79971146e+00, -4.52315659e-01],\n",
       "       [ 6.48360827e-01, -2.25950846e+02, -6.35859929e-01,\n",
       "         4.63021133e-01,  7.24460662e+00]])"
      ]
     },
     "execution_count": 40,
     "metadata": {},
     "output_type": "execute_result"
    }
   ],
   "source": [
    "np.tan(narray)"
   ]
  },
  {
   "cell_type": "code",
   "execution_count": 45,
   "metadata": {},
   "outputs": [],
   "source": [
    "rad_array = np.radians(narray)"
   ]
  },
  {
   "cell_type": "code",
   "execution_count": 46,
   "metadata": {},
   "outputs": [
    {
     "data": {
      "text/plain": [
       "array([[0.        , 0.01745329, 0.03490659, 0.05235988, 0.06981317],\n",
       "       [0.08726646, 0.10471976, 0.12217305, 0.13962634, 0.15707963],\n",
       "       [0.17453293, 0.19198622, 0.20943951, 0.2268928 , 0.2443461 ]])"
      ]
     },
     "execution_count": 46,
     "metadata": {},
     "output_type": "execute_result"
    }
   ],
   "source": [
    "rad_array"
   ]
  },
  {
   "cell_type": "code",
   "execution_count": 47,
   "metadata": {},
   "outputs": [],
   "source": [
    "degree_array = np.degrees(narray)"
   ]
  },
  {
   "cell_type": "code",
   "execution_count": 48,
   "metadata": {},
   "outputs": [
    {
     "data": {
      "text/plain": [
       "array([[  0.        ,  57.29577951, 114.59155903, 171.88733854,\n",
       "        229.18311805],\n",
       "       [286.47889757, 343.77467708, 401.07045659, 458.3662361 ,\n",
       "        515.66201562],\n",
       "       [572.95779513, 630.25357464, 687.54935416, 744.84513367,\n",
       "        802.14091318]])"
      ]
     },
     "execution_count": 48,
     "metadata": {},
     "output_type": "execute_result"
    }
   ],
   "source": [
    "degree_array"
   ]
  },
  {
   "cell_type": "code",
   "execution_count": 49,
   "metadata": {},
   "outputs": [
    {
     "data": {
      "text/plain": [
       "array([[0.00000000e+00, 1.17520119e+00, 3.62686041e+00, 1.00178749e+01,\n",
       "        2.72899172e+01],\n",
       "       [7.42032106e+01, 2.01713157e+02, 5.48316123e+02, 1.49047883e+03,\n",
       "        4.05154190e+03],\n",
       "       [1.10132329e+04, 2.99370708e+04, 8.13773957e+04, 2.21206696e+05,\n",
       "        6.01302142e+05]])"
      ]
     },
     "execution_count": 49,
     "metadata": {},
     "output_type": "execute_result"
    }
   ],
   "source": [
    "np.sinh(narray)"
   ]
  },
  {
   "cell_type": "code",
   "execution_count": 50,
   "metadata": {},
   "outputs": [
    {
     "data": {
      "text/plain": [
       "array([[1.00000000e+00, 1.54308063e+00, 3.76219569e+00, 1.00676620e+01,\n",
       "        2.73082328e+01],\n",
       "       [7.42099485e+01, 2.01715636e+02, 5.48317035e+02, 1.49047916e+03,\n",
       "        4.05154203e+03],\n",
       "       [1.10132329e+04, 2.99370709e+04, 8.13773957e+04, 2.21206696e+05,\n",
       "        6.01302142e+05]])"
      ]
     },
     "execution_count": 50,
     "metadata": {},
     "output_type": "execute_result"
    }
   ],
   "source": [
    "np.cosh(narray)"
   ]
  },
  {
   "cell_type": "code",
   "execution_count": 51,
   "metadata": {},
   "outputs": [
    {
     "data": {
      "text/plain": [
       "array([[0.        , 0.76159416, 0.96402758, 0.99505475, 0.9993293 ],\n",
       "       [0.9999092 , 0.99998771, 0.99999834, 0.99999977, 0.99999997],\n",
       "       [1.        , 1.        , 1.        , 1.        , 1.        ]])"
      ]
     },
     "execution_count": 51,
     "metadata": {},
     "output_type": "execute_result"
    }
   ],
   "source": [
    "np.tanh(narray)"
   ]
  },
  {
   "cell_type": "code",
   "execution_count": null,
   "metadata": {},
   "outputs": [],
   "source": []
  }
 ],
 "metadata": {
  "kernelspec": {
   "display_name": "Python 3",
   "language": "python",
   "name": "python3"
  },
  "language_info": {
   "codemirror_mode": {
    "name": "ipython",
    "version": 3
   },
   "file_extension": ".py",
   "mimetype": "text/x-python",
   "name": "python",
   "nbconvert_exporter": "python",
   "pygments_lexer": "ipython3",
   "version": "3.7.4"
  }
 },
 "nbformat": 4,
 "nbformat_minor": 2
}
