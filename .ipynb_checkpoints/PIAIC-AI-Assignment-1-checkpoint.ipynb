{
 "cells": [
  {
   "cell_type": "code",
   "execution_count": 1,
   "metadata": {},
   "outputs": [],
   "source": [
    "import numpy as np"
   ]
  },
  {
   "cell_type": "code",
   "execution_count": 17,
   "metadata": {},
   "outputs": [],
   "source": [
    "narray = np.arange(15).reshape(3, 5)"
   ]
  },
  {
   "cell_type": "code",
   "execution_count": 18,
   "metadata": {},
   "outputs": [
    {
     "data": {
      "text/plain": [
       "array([[ 0,  1,  2,  3,  4],\n",
       "       [ 5,  6,  7,  8,  9],\n",
       "       [10, 11, 12, 13, 14]])"
      ]
     },
     "execution_count": 18,
     "metadata": {},
     "output_type": "execute_result"
    }
   ],
   "source": [
    "narray"
   ]
  },
  {
   "cell_type": "code",
   "execution_count": 19,
   "metadata": {},
   "outputs": [
    {
     "data": {
      "text/plain": [
       "(3, 5)"
      ]
     },
     "execution_count": 19,
     "metadata": {},
     "output_type": "execute_result"
    }
   ],
   "source": [
    "narray.shape"
   ]
  },
  {
   "cell_type": "code",
   "execution_count": 20,
   "metadata": {},
   "outputs": [
    {
     "data": {
      "text/plain": [
       "2"
      ]
     },
     "execution_count": 20,
     "metadata": {},
     "output_type": "execute_result"
    }
   ],
   "source": [
    "narray.ndim"
   ]
  },
  {
   "cell_type": "code",
   "execution_count": 21,
   "metadata": {},
   "outputs": [
    {
     "data": {
      "text/plain": [
       "'int32'"
      ]
     },
     "execution_count": 21,
     "metadata": {},
     "output_type": "execute_result"
    }
   ],
   "source": [
    "narray.dtype.name"
   ]
  },
  {
   "cell_type": "code",
   "execution_count": 22,
   "metadata": {},
   "outputs": [
    {
     "data": {
      "text/plain": [
       "4"
      ]
     },
     "execution_count": 22,
     "metadata": {},
     "output_type": "execute_result"
    }
   ],
   "source": [
    "narray.itemsize"
   ]
  },
  {
   "cell_type": "code",
   "execution_count": 24,
   "metadata": {},
   "outputs": [
    {
     "data": {
      "text/plain": [
       "<memory at 0x00000212A69C7208>"
      ]
     },
     "execution_count": 24,
     "metadata": {},
     "output_type": "execute_result"
    }
   ],
   "source": [
    "narray.data"
   ]
  },
  {
   "cell_type": "code",
   "execution_count": 25,
   "metadata": {},
   "outputs": [
    {
     "data": {
      "text/plain": [
       "numpy.ndarray"
      ]
     },
     "execution_count": 25,
     "metadata": {},
     "output_type": "execute_result"
    }
   ],
   "source": [
    "type(narray)"
   ]
  },
  {
   "cell_type": "code",
   "execution_count": 30,
   "metadata": {},
   "outputs": [],
   "source": [
    "narray2 = np.linspace(5, 15, 100)"
   ]
  },
  {
   "cell_type": "code",
   "execution_count": 31,
   "metadata": {},
   "outputs": [
    {
     "data": {
      "text/plain": [
       "array([ 5.        ,  5.1010101 ,  5.2020202 ,  5.3030303 ,  5.4040404 ,\n",
       "        5.50505051,  5.60606061,  5.70707071,  5.80808081,  5.90909091,\n",
       "        6.01010101,  6.11111111,  6.21212121,  6.31313131,  6.41414141,\n",
       "        6.51515152,  6.61616162,  6.71717172,  6.81818182,  6.91919192,\n",
       "        7.02020202,  7.12121212,  7.22222222,  7.32323232,  7.42424242,\n",
       "        7.52525253,  7.62626263,  7.72727273,  7.82828283,  7.92929293,\n",
       "        8.03030303,  8.13131313,  8.23232323,  8.33333333,  8.43434343,\n",
       "        8.53535354,  8.63636364,  8.73737374,  8.83838384,  8.93939394,\n",
       "        9.04040404,  9.14141414,  9.24242424,  9.34343434,  9.44444444,\n",
       "        9.54545455,  9.64646465,  9.74747475,  9.84848485,  9.94949495,\n",
       "       10.05050505, 10.15151515, 10.25252525, 10.35353535, 10.45454545,\n",
       "       10.55555556, 10.65656566, 10.75757576, 10.85858586, 10.95959596,\n",
       "       11.06060606, 11.16161616, 11.26262626, 11.36363636, 11.46464646,\n",
       "       11.56565657, 11.66666667, 11.76767677, 11.86868687, 11.96969697,\n",
       "       12.07070707, 12.17171717, 12.27272727, 12.37373737, 12.47474747,\n",
       "       12.57575758, 12.67676768, 12.77777778, 12.87878788, 12.97979798,\n",
       "       13.08080808, 13.18181818, 13.28282828, 13.38383838, 13.48484848,\n",
       "       13.58585859, 13.68686869, 13.78787879, 13.88888889, 13.98989899,\n",
       "       14.09090909, 14.19191919, 14.29292929, 14.39393939, 14.49494949,\n",
       "       14.5959596 , 14.6969697 , 14.7979798 , 14.8989899 , 15.        ])"
      ]
     },
     "execution_count": 31,
     "metadata": {},
     "output_type": "execute_result"
    }
   ],
   "source": [
    "narray2"
   ]
  },
  {
   "cell_type": "code",
   "execution_count": 34,
   "metadata": {},
   "outputs": [],
   "source": [
    "narray_zero = np.zeros((3, 3))"
   ]
  },
  {
   "cell_type": "code",
   "execution_count": 35,
   "metadata": {},
   "outputs": [
    {
     "data": {
      "text/plain": [
       "array([[0., 0., 0.],\n",
       "       [0., 0., 0.],\n",
       "       [0., 0., 0.]])"
      ]
     },
     "execution_count": 35,
     "metadata": {},
     "output_type": "execute_result"
    }
   ],
   "source": [
    "narray_zero"
   ]
  },
  {
   "cell_type": "code",
   "execution_count": 36,
   "metadata": {},
   "outputs": [],
   "source": [
    "npRepeatArray = np.repeat('10', 20)"
   ]
  },
  {
   "cell_type": "code",
   "execution_count": 37,
   "metadata": {},
   "outputs": [
    {
     "data": {
      "text/plain": [
       "array(['10', '10', '10', '10', '10', '10', '10', '10', '10', '10', '10',\n",
       "       '10', '10', '10', '10', '10', '10', '10', '10', '10'], dtype='<U2')"
      ]
     },
     "execution_count": 37,
     "metadata": {},
     "output_type": "execute_result"
    }
   ],
   "source": [
    "npRepeatArray"
   ]
  },
  {
   "cell_type": "code",
   "execution_count": 38,
   "metadata": {},
   "outputs": [
    {
     "data": {
      "text/plain": [
       "numpy.ndarray"
      ]
     },
     "execution_count": 38,
     "metadata": {},
     "output_type": "execute_result"
    }
   ],
   "source": [
    "type(npRepeatArray)"
   ]
  },
  {
   "cell_type": "code",
   "execution_count": null,
   "metadata": {},
   "outputs": [],
   "source": []
  }
 ],
 "metadata": {
  "kernelspec": {
   "display_name": "Python 3",
   "language": "python",
   "name": "python3"
  },
  "language_info": {
   "codemirror_mode": {
    "name": "ipython",
    "version": 3
   },
   "file_extension": ".py",
   "mimetype": "text/x-python",
   "name": "python",
   "nbconvert_exporter": "python",
   "pygments_lexer": "ipython3",
   "version": "3.7.4"
  }
 },
 "nbformat": 4,
 "nbformat_minor": 2
}
