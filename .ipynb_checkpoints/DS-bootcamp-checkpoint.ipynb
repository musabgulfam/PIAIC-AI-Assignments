{
 "cells": [
  {
   "cell_type": "code",
   "execution_count": 3,
   "metadata": {},
   "outputs": [],
   "source": [
    "import pandas as pd"
   ]
  },
  {
   "cell_type": "code",
   "execution_count": 4,
   "metadata": {},
   "outputs": [],
   "source": [
    "data = pd.read_csv(r\"C:\\Users\\musab\\Downloads\\nyc_yellow_taxi_data.csv\")"
   ]
  },
  {
   "cell_type": "code",
   "execution_count": 5,
   "metadata": {},
   "outputs": [
    {
     "data": {
      "text/html": [
       "<div>\n",
       "<style scoped>\n",
       "    .dataframe tbody tr th:only-of-type {\n",
       "        vertical-align: middle;\n",
       "    }\n",
       "\n",
       "    .dataframe tbody tr th {\n",
       "        vertical-align: top;\n",
       "    }\n",
       "\n",
       "    .dataframe thead th {\n",
       "        text-align: right;\n",
       "    }\n",
       "</style>\n",
       "<table border=\"1\" class=\"dataframe\">\n",
       "  <thead>\n",
       "    <tr style=\"text-align: right;\">\n",
       "      <th></th>\n",
       "      <th>VendorID</th>\n",
       "      <th>tpep_pickup_datetime</th>\n",
       "      <th>tpep_dropoff_datetime</th>\n",
       "      <th>passenger_count</th>\n",
       "      <th>PULocationID</th>\n",
       "      <th>DOLocationID</th>\n",
       "      <th>fare_amount</th>\n",
       "    </tr>\n",
       "  </thead>\n",
       "  <tbody>\n",
       "    <tr>\n",
       "      <td>0</td>\n",
       "      <td>1.0</td>\n",
       "      <td>2020-01-01 00:28:15</td>\n",
       "      <td>2020-01-01 00:33:03</td>\n",
       "      <td>1.0</td>\n",
       "      <td>238</td>\n",
       "      <td>239</td>\n",
       "      <td>6.0</td>\n",
       "    </tr>\n",
       "    <tr>\n",
       "      <td>1</td>\n",
       "      <td>1.0</td>\n",
       "      <td>2020-01-01 00:35:39</td>\n",
       "      <td>2020-01-01 00:43:04</td>\n",
       "      <td>1.0</td>\n",
       "      <td>239</td>\n",
       "      <td>238</td>\n",
       "      <td>7.0</td>\n",
       "    </tr>\n",
       "    <tr>\n",
       "      <td>2</td>\n",
       "      <td>1.0</td>\n",
       "      <td>2020-01-01 00:47:41</td>\n",
       "      <td>2020-01-01 00:53:52</td>\n",
       "      <td>1.0</td>\n",
       "      <td>238</td>\n",
       "      <td>238</td>\n",
       "      <td>6.0</td>\n",
       "    </tr>\n",
       "    <tr>\n",
       "      <td>3</td>\n",
       "      <td>1.0</td>\n",
       "      <td>2020-01-01 00:55:23</td>\n",
       "      <td>2020-01-01 01:00:14</td>\n",
       "      <td>1.0</td>\n",
       "      <td>238</td>\n",
       "      <td>151</td>\n",
       "      <td>5.5</td>\n",
       "    </tr>\n",
       "    <tr>\n",
       "      <td>4</td>\n",
       "      <td>2.0</td>\n",
       "      <td>2020-01-01 00:01:58</td>\n",
       "      <td>2020-01-01 00:04:16</td>\n",
       "      <td>1.0</td>\n",
       "      <td>193</td>\n",
       "      <td>193</td>\n",
       "      <td>3.5</td>\n",
       "    </tr>\n",
       "  </tbody>\n",
       "</table>\n",
       "</div>"
      ],
      "text/plain": [
       "   VendorID tpep_pickup_datetime tpep_dropoff_datetime  passenger_count  \\\n",
       "0       1.0  2020-01-01 00:28:15   2020-01-01 00:33:03              1.0   \n",
       "1       1.0  2020-01-01 00:35:39   2020-01-01 00:43:04              1.0   \n",
       "2       1.0  2020-01-01 00:47:41   2020-01-01 00:53:52              1.0   \n",
       "3       1.0  2020-01-01 00:55:23   2020-01-01 01:00:14              1.0   \n",
       "4       2.0  2020-01-01 00:01:58   2020-01-01 00:04:16              1.0   \n",
       "\n",
       "   PULocationID  DOLocationID  fare_amount  \n",
       "0           238           239          6.0  \n",
       "1           239           238          7.0  \n",
       "2           238           238          6.0  \n",
       "3           238           151          5.5  \n",
       "4           193           193          3.5  "
      ]
     },
     "execution_count": 5,
     "metadata": {},
     "output_type": "execute_result"
    }
   ],
   "source": [
    "data.head()"
   ]
  },
  {
   "cell_type": "code",
   "execution_count": 6,
   "metadata": {},
   "outputs": [],
   "source": [
    "maxCount = data.passenger_count.max()\n"
   ]
  },
  {
   "cell_type": "code",
   "execution_count": 7,
   "metadata": {},
   "outputs": [
    {
     "name": "stdout",
     "output_type": "stream",
     "text": [
      "9.0\n"
     ]
    }
   ],
   "source": [
    "print(maxCount)"
   ]
  },
  {
   "cell_type": "code",
   "execution_count": 8,
   "metadata": {},
   "outputs": [],
   "source": [
    "distPickLoc = data['PULocationID'].unique()"
   ]
  },
  {
   "cell_type": "code",
   "execution_count": 9,
   "metadata": {},
   "outputs": [
    {
     "name": "stdout",
     "output_type": "stream",
     "text": [
      "[238 239 193   7 246 163 161  43 143 211 234 138 170 236  50 142 237  24\n",
      " 232  79 233 148 144 229  41  48  95 141  90 166 249  87 113 107 185 162\n",
      " 189 140 262 263 151 231  40 261 137 158 181 132  68 164 114 125  75 255\n",
      " 129  93 226 260 209  65 116  74  13 145 224 256 112 264  17 186  42 157\n",
      "  88   4  45 257 127 152  12 179 243 244  18 119 190  97 100 265 220 153\n",
      "  66 196  25  80  36  73 135 146  49  47  51  92 136  37 198 202 173  52\n",
      "  33  76 169  70  56  10 216  77  32  69 108 235   3 225 228 188 126  94\n",
      "  60 213  89  83  82 254 194  14 159  34  85 168 223  61 167 247 230  67\n",
      " 106 217 133 160  62 134 165 147 241 191  54 102 174  78  71  22  55 212\n",
      "  20  63  35  29 215 120 240 195  72 258 208 183  91  53 121  39  19  28\n",
      " 227 250 155 182   1 242  26 177 197 131  38  16 221 130 219  21 171 200\n",
      " 180  44  23 117 207   5 139 222 123 206 124 218 101 210   8 248 214  31\n",
      "  64  11 150 178 203  81  99  46 149 128 205 252 154 156 187 253 118  86\n",
      " 175  58  98 122  15 192 109 259  96 115 184   9   6 111  30   2  57 201\n",
      "  27 251 245]\n"
     ]
    }
   ],
   "source": [
    "print(distPickLoc)"
   ]
  },
  {
   "cell_type": "code",
   "execution_count": 10,
   "metadata": {},
   "outputs": [
    {
     "name": "stdout",
     "output_type": "stream",
     "text": [
      "<class 'pandas.core.frame.DataFrame'>\n",
      "RangeIndex: 1243241 entries, 0 to 1243240\n",
      "Data columns (total 7 columns):\n",
      "VendorID                 1227632 non-null float64\n",
      "tpep_pickup_datetime     1243241 non-null object\n",
      "tpep_dropoff_datetime    1243241 non-null object\n",
      "passenger_count          1227632 non-null float64\n",
      "PULocationID             1243241 non-null int64\n",
      "DOLocationID             1243241 non-null int64\n",
      "fare_amount              1243241 non-null float64\n",
      "dtypes: float64(3), int64(2), object(2)\n",
      "memory usage: 66.4+ MB\n"
     ]
    }
   ],
   "source": [
    "data.info()"
   ]
  },
  {
   "cell_type": "code",
   "execution_count": 11,
   "metadata": {},
   "outputs": [
    {
     "data": {
      "text/plain": [
       "255"
      ]
     },
     "execution_count": 11,
     "metadata": {},
     "output_type": "execute_result"
    }
   ],
   "source": [
    "len(distPickLoc)"
   ]
  },
  {
   "cell_type": "code",
   "execution_count": 12,
   "metadata": {},
   "outputs": [
    {
     "data": {
      "text/plain": [
       "1243241"
      ]
     },
     "execution_count": 12,
     "metadata": {},
     "output_type": "execute_result"
    }
   ],
   "source": [
    "len(data['DOLocationID'])"
   ]
  },
  {
   "cell_type": "code",
   "execution_count": 13,
   "metadata": {},
   "outputs": [
    {
     "name": "stdout",
     "output_type": "stream",
     "text": [
      "0          239\n",
      "1          238\n",
      "2          238\n",
      "3          151\n",
      "4          193\n",
      "          ... \n",
      "1243236    145\n",
      "1243237     78\n",
      "1243238     78\n",
      "1243239    166\n",
      "1243240    166\n",
      "Name: DOLocationID, Length: 1243241, dtype: int64\n"
     ]
    }
   ],
   "source": [
    "print(data['DOLocationID'])"
   ]
  },
  {
   "cell_type": "code",
   "execution_count": 14,
   "metadata": {},
   "outputs": [],
   "source": [
    "data.tpep_pickup_datetime = pd.to_datetime(data.tpep_pickup_datetime)\n",
    "data.tpep_pickup_datetime = pd.DatetimeIndex(data.tpep_pickup_datetime)"
   ]
  },
  {
   "cell_type": "code",
   "execution_count": 15,
   "metadata": {},
   "outputs": [
    {
     "name": "stdout",
     "output_type": "stream",
     "text": [
      "<class 'pandas.core.frame.DataFrame'>\n",
      "RangeIndex: 1243241 entries, 0 to 1243240\n",
      "Data columns (total 7 columns):\n",
      "VendorID                 1227632 non-null float64\n",
      "tpep_pickup_datetime     1243241 non-null datetime64[ns]\n",
      "tpep_dropoff_datetime    1243241 non-null object\n",
      "passenger_count          1227632 non-null float64\n",
      "PULocationID             1243241 non-null int64\n",
      "DOLocationID             1243241 non-null int64\n",
      "fare_amount              1243241 non-null float64\n",
      "dtypes: datetime64[ns](1), float64(3), int64(2), object(1)\n",
      "memory usage: 66.4+ MB\n"
     ]
    }
   ],
   "source": [
    "data.info()"
   ]
  },
  {
   "cell_type": "code",
   "execution_count": 16,
   "metadata": {},
   "outputs": [],
   "source": [
    "data['weekday'] = data.tpep_pickup_datetime.dt.day_name()"
   ]
  },
  {
   "cell_type": "code",
   "execution_count": 17,
   "metadata": {},
   "outputs": [
    {
     "data": {
      "text/html": [
       "<div>\n",
       "<style scoped>\n",
       "    .dataframe tbody tr th:only-of-type {\n",
       "        vertical-align: middle;\n",
       "    }\n",
       "\n",
       "    .dataframe tbody tr th {\n",
       "        vertical-align: top;\n",
       "    }\n",
       "\n",
       "    .dataframe thead th {\n",
       "        text-align: right;\n",
       "    }\n",
       "</style>\n",
       "<table border=\"1\" class=\"dataframe\">\n",
       "  <thead>\n",
       "    <tr style=\"text-align: right;\">\n",
       "      <th></th>\n",
       "      <th>VendorID</th>\n",
       "      <th>tpep_pickup_datetime</th>\n",
       "      <th>tpep_dropoff_datetime</th>\n",
       "      <th>passenger_count</th>\n",
       "      <th>PULocationID</th>\n",
       "      <th>DOLocationID</th>\n",
       "      <th>fare_amount</th>\n",
       "      <th>weekday</th>\n",
       "    </tr>\n",
       "  </thead>\n",
       "  <tbody>\n",
       "    <tr>\n",
       "      <td>0</td>\n",
       "      <td>1.0</td>\n",
       "      <td>2020-01-01 00:28:15</td>\n",
       "      <td>2020-01-01 00:33:03</td>\n",
       "      <td>1.0</td>\n",
       "      <td>238</td>\n",
       "      <td>239</td>\n",
       "      <td>6.0</td>\n",
       "      <td>Wednesday</td>\n",
       "    </tr>\n",
       "    <tr>\n",
       "      <td>1</td>\n",
       "      <td>1.0</td>\n",
       "      <td>2020-01-01 00:35:39</td>\n",
       "      <td>2020-01-01 00:43:04</td>\n",
       "      <td>1.0</td>\n",
       "      <td>239</td>\n",
       "      <td>238</td>\n",
       "      <td>7.0</td>\n",
       "      <td>Wednesday</td>\n",
       "    </tr>\n",
       "    <tr>\n",
       "      <td>2</td>\n",
       "      <td>1.0</td>\n",
       "      <td>2020-01-01 00:47:41</td>\n",
       "      <td>2020-01-01 00:53:52</td>\n",
       "      <td>1.0</td>\n",
       "      <td>238</td>\n",
       "      <td>238</td>\n",
       "      <td>6.0</td>\n",
       "      <td>Wednesday</td>\n",
       "    </tr>\n",
       "    <tr>\n",
       "      <td>3</td>\n",
       "      <td>1.0</td>\n",
       "      <td>2020-01-01 00:55:23</td>\n",
       "      <td>2020-01-01 01:00:14</td>\n",
       "      <td>1.0</td>\n",
       "      <td>238</td>\n",
       "      <td>151</td>\n",
       "      <td>5.5</td>\n",
       "      <td>Wednesday</td>\n",
       "    </tr>\n",
       "    <tr>\n",
       "      <td>4</td>\n",
       "      <td>2.0</td>\n",
       "      <td>2020-01-01 00:01:58</td>\n",
       "      <td>2020-01-01 00:04:16</td>\n",
       "      <td>1.0</td>\n",
       "      <td>193</td>\n",
       "      <td>193</td>\n",
       "      <td>3.5</td>\n",
       "      <td>Wednesday</td>\n",
       "    </tr>\n",
       "  </tbody>\n",
       "</table>\n",
       "</div>"
      ],
      "text/plain": [
       "   VendorID tpep_pickup_datetime tpep_dropoff_datetime  passenger_count  \\\n",
       "0       1.0  2020-01-01 00:28:15   2020-01-01 00:33:03              1.0   \n",
       "1       1.0  2020-01-01 00:35:39   2020-01-01 00:43:04              1.0   \n",
       "2       1.0  2020-01-01 00:47:41   2020-01-01 00:53:52              1.0   \n",
       "3       1.0  2020-01-01 00:55:23   2020-01-01 01:00:14              1.0   \n",
       "4       2.0  2020-01-01 00:01:58   2020-01-01 00:04:16              1.0   \n",
       "\n",
       "   PULocationID  DOLocationID  fare_amount    weekday  \n",
       "0           238           239          6.0  Wednesday  \n",
       "1           239           238          7.0  Wednesday  \n",
       "2           238           238          6.0  Wednesday  \n",
       "3           238           151          5.5  Wednesday  \n",
       "4           193           193          3.5  Wednesday  "
      ]
     },
     "execution_count": 17,
     "metadata": {},
     "output_type": "execute_result"
    }
   ],
   "source": [
    "data.head()"
   ]
  },
  {
   "cell_type": "code",
   "execution_count": 18,
   "metadata": {},
   "outputs": [],
   "source": [
    "subData = data[['weekday', 'tpep_pickup_datetime']]"
   ]
  },
  {
   "cell_type": "code",
   "execution_count": 19,
   "metadata": {},
   "outputs": [
    {
     "data": {
      "text/html": [
       "<div>\n",
       "<style scoped>\n",
       "    .dataframe tbody tr th:only-of-type {\n",
       "        vertical-align: middle;\n",
       "    }\n",
       "\n",
       "    .dataframe tbody tr th {\n",
       "        vertical-align: top;\n",
       "    }\n",
       "\n",
       "    .dataframe thead th {\n",
       "        text-align: right;\n",
       "    }\n",
       "</style>\n",
       "<table border=\"1\" class=\"dataframe\">\n",
       "  <thead>\n",
       "    <tr style=\"text-align: right;\">\n",
       "      <th></th>\n",
       "      <th>weekday</th>\n",
       "      <th>tpep_pickup_datetime</th>\n",
       "    </tr>\n",
       "  </thead>\n",
       "  <tbody>\n",
       "    <tr>\n",
       "      <td>0</td>\n",
       "      <td>Wednesday</td>\n",
       "      <td>2020-01-01 00:28:15</td>\n",
       "    </tr>\n",
       "    <tr>\n",
       "      <td>1</td>\n",
       "      <td>Wednesday</td>\n",
       "      <td>2020-01-01 00:35:39</td>\n",
       "    </tr>\n",
       "    <tr>\n",
       "      <td>2</td>\n",
       "      <td>Wednesday</td>\n",
       "      <td>2020-01-01 00:47:41</td>\n",
       "    </tr>\n",
       "    <tr>\n",
       "      <td>3</td>\n",
       "      <td>Wednesday</td>\n",
       "      <td>2020-01-01 00:55:23</td>\n",
       "    </tr>\n",
       "    <tr>\n",
       "      <td>4</td>\n",
       "      <td>Wednesday</td>\n",
       "      <td>2020-01-01 00:01:58</td>\n",
       "    </tr>\n",
       "  </tbody>\n",
       "</table>\n",
       "</div>"
      ],
      "text/plain": [
       "     weekday tpep_pickup_datetime\n",
       "0  Wednesday  2020-01-01 00:28:15\n",
       "1  Wednesday  2020-01-01 00:35:39\n",
       "2  Wednesday  2020-01-01 00:47:41\n",
       "3  Wednesday  2020-01-01 00:55:23\n",
       "4  Wednesday  2020-01-01 00:01:58"
      ]
     },
     "execution_count": 19,
     "metadata": {},
     "output_type": "execute_result"
    }
   ],
   "source": [
    "subData.head()"
   ]
  },
  {
   "cell_type": "code",
   "execution_count": 20,
   "metadata": {},
   "outputs": [
    {
     "name": "stdout",
     "output_type": "stream",
     "text": [
      "0          Wednesday\n",
      "1          Wednesday\n",
      "2          Wednesday\n",
      "3          Wednesday\n",
      "4          Wednesday\n",
      "             ...    \n",
      "1243236      Tuesday\n",
      "1243237      Tuesday\n",
      "1243238      Tuesday\n",
      "1243239      Tuesday\n",
      "1243240      Tuesday\n",
      "Name: weekday, Length: 1243241, dtype: object\n"
     ]
    }
   ],
   "source": [
    "print(subData.weekday)"
   ]
  },
  {
   "cell_type": "code",
   "execution_count": 21,
   "metadata": {},
   "outputs": [
    {
     "name": "stdout",
     "output_type": "stream",
     "text": [
      "<class 'pandas.core.frame.DataFrame'>\n",
      "RangeIndex: 1243241 entries, 0 to 1243240\n",
      "Data columns (total 2 columns):\n",
      "weekday                 1243241 non-null object\n",
      "tpep_pickup_datetime    1243241 non-null datetime64[ns]\n",
      "dtypes: datetime64[ns](1), object(1)\n",
      "memory usage: 19.0+ MB\n"
     ]
    }
   ],
   "source": [
    "subData.info()"
   ]
  },
  {
   "cell_type": "code",
   "execution_count": 22,
   "metadata": {},
   "outputs": [],
   "source": [
    "days = subData.weekday"
   ]
  },
  {
   "cell_type": "code",
   "execution_count": 23,
   "metadata": {},
   "outputs": [
    {
     "name": "stdout",
     "output_type": "stream",
     "text": [
      "0          Wednesday\n",
      "1          Wednesday\n",
      "2          Wednesday\n",
      "3          Wednesday\n",
      "4          Wednesday\n",
      "             ...    \n",
      "1243236      Tuesday\n",
      "1243237      Tuesday\n",
      "1243238      Tuesday\n",
      "1243239      Tuesday\n",
      "1243240      Tuesday\n",
      "Name: weekday, Length: 1243241, dtype: object\n"
     ]
    }
   ],
   "source": [
    "print(days)"
   ]
  },
  {
   "cell_type": "code",
   "execution_count": 24,
   "metadata": {},
   "outputs": [
    {
     "data": {
      "text/plain": [
       "pandas.core.series.Series"
      ]
     },
     "execution_count": 24,
     "metadata": {},
     "output_type": "execute_result"
    }
   ],
   "source": [
    "type(days)"
   ]
  },
  {
   "cell_type": "code",
   "execution_count": 25,
   "metadata": {},
   "outputs": [
    {
     "data": {
      "text/plain": [
       "Tuesday      201520\n",
       "Friday       183477\n",
       "Saturday     182752\n",
       "Monday       179515\n",
       "Wednesday    169437\n",
       "Sunday       164399\n",
       "Thursday     162141\n",
       "Name: weekday, dtype: int64"
      ]
     },
     "execution_count": 25,
     "metadata": {},
     "output_type": "execute_result"
    }
   ],
   "source": [
    "days.value_counts()"
   ]
  },
  {
   "cell_type": "code",
   "execution_count": 26,
   "metadata": {},
   "outputs": [
    {
     "name": "stdout",
     "output_type": "stream",
     "text": [
      "<class 'pandas.core.frame.DataFrame'>\n",
      "RangeIndex: 1243241 entries, 0 to 1243240\n",
      "Data columns (total 8 columns):\n",
      "VendorID                 1227632 non-null float64\n",
      "tpep_pickup_datetime     1243241 non-null datetime64[ns]\n",
      "tpep_dropoff_datetime    1243241 non-null object\n",
      "passenger_count          1227632 non-null float64\n",
      "PULocationID             1243241 non-null int64\n",
      "DOLocationID             1243241 non-null int64\n",
      "fare_amount              1243241 non-null float64\n",
      "weekday                  1243241 non-null object\n",
      "dtypes: datetime64[ns](1), float64(3), int64(2), object(2)\n",
      "memory usage: 75.9+ MB\n"
     ]
    }
   ],
   "source": [
    "data.info()"
   ]
  },
  {
   "cell_type": "code",
   "execution_count": 27,
   "metadata": {},
   "outputs": [
    {
     "data": {
      "text/html": [
       "<div>\n",
       "<style scoped>\n",
       "    .dataframe tbody tr th:only-of-type {\n",
       "        vertical-align: middle;\n",
       "    }\n",
       "\n",
       "    .dataframe tbody tr th {\n",
       "        vertical-align: top;\n",
       "    }\n",
       "\n",
       "    .dataframe thead th {\n",
       "        text-align: right;\n",
       "    }\n",
       "</style>\n",
       "<table border=\"1\" class=\"dataframe\">\n",
       "  <thead>\n",
       "    <tr style=\"text-align: right;\">\n",
       "      <th></th>\n",
       "      <th>VendorID</th>\n",
       "      <th>tpep_pickup_datetime</th>\n",
       "      <th>tpep_dropoff_datetime</th>\n",
       "      <th>passenger_count</th>\n",
       "      <th>PULocationID</th>\n",
       "      <th>DOLocationID</th>\n",
       "      <th>fare_amount</th>\n",
       "      <th>weekday</th>\n",
       "    </tr>\n",
       "  </thead>\n",
       "  <tbody>\n",
       "    <tr>\n",
       "      <td>0</td>\n",
       "      <td>1.0</td>\n",
       "      <td>2020-01-01 00:28:15</td>\n",
       "      <td>2020-01-01 00:33:03</td>\n",
       "      <td>1.0</td>\n",
       "      <td>238</td>\n",
       "      <td>239</td>\n",
       "      <td>6.0</td>\n",
       "      <td>Wednesday</td>\n",
       "    </tr>\n",
       "    <tr>\n",
       "      <td>1</td>\n",
       "      <td>1.0</td>\n",
       "      <td>2020-01-01 00:35:39</td>\n",
       "      <td>2020-01-01 00:43:04</td>\n",
       "      <td>1.0</td>\n",
       "      <td>239</td>\n",
       "      <td>238</td>\n",
       "      <td>7.0</td>\n",
       "      <td>Wednesday</td>\n",
       "    </tr>\n",
       "    <tr>\n",
       "      <td>2</td>\n",
       "      <td>1.0</td>\n",
       "      <td>2020-01-01 00:47:41</td>\n",
       "      <td>2020-01-01 00:53:52</td>\n",
       "      <td>1.0</td>\n",
       "      <td>238</td>\n",
       "      <td>238</td>\n",
       "      <td>6.0</td>\n",
       "      <td>Wednesday</td>\n",
       "    </tr>\n",
       "    <tr>\n",
       "      <td>3</td>\n",
       "      <td>1.0</td>\n",
       "      <td>2020-01-01 00:55:23</td>\n",
       "      <td>2020-01-01 01:00:14</td>\n",
       "      <td>1.0</td>\n",
       "      <td>238</td>\n",
       "      <td>151</td>\n",
       "      <td>5.5</td>\n",
       "      <td>Wednesday</td>\n",
       "    </tr>\n",
       "    <tr>\n",
       "      <td>4</td>\n",
       "      <td>2.0</td>\n",
       "      <td>2020-01-01 00:01:58</td>\n",
       "      <td>2020-01-01 00:04:16</td>\n",
       "      <td>1.0</td>\n",
       "      <td>193</td>\n",
       "      <td>193</td>\n",
       "      <td>3.5</td>\n",
       "      <td>Wednesday</td>\n",
       "    </tr>\n",
       "  </tbody>\n",
       "</table>\n",
       "</div>"
      ],
      "text/plain": [
       "   VendorID tpep_pickup_datetime tpep_dropoff_datetime  passenger_count  \\\n",
       "0       1.0  2020-01-01 00:28:15   2020-01-01 00:33:03              1.0   \n",
       "1       1.0  2020-01-01 00:35:39   2020-01-01 00:43:04              1.0   \n",
       "2       1.0  2020-01-01 00:47:41   2020-01-01 00:53:52              1.0   \n",
       "3       1.0  2020-01-01 00:55:23   2020-01-01 01:00:14              1.0   \n",
       "4       2.0  2020-01-01 00:01:58   2020-01-01 00:04:16              1.0   \n",
       "\n",
       "   PULocationID  DOLocationID  fare_amount    weekday  \n",
       "0           238           239          6.0  Wednesday  \n",
       "1           239           238          7.0  Wednesday  \n",
       "2           238           238          6.0  Wednesday  \n",
       "3           238           151          5.5  Wednesday  \n",
       "4           193           193          3.5  Wednesday  "
      ]
     },
     "execution_count": 27,
     "metadata": {},
     "output_type": "execute_result"
    }
   ],
   "source": [
    "data.head()"
   ]
  },
  {
   "cell_type": "code",
   "execution_count": 28,
   "metadata": {},
   "outputs": [
    {
     "data": {
      "text/plain": [
       "pandas.core.frame.DataFrame"
      ]
     },
     "execution_count": 28,
     "metadata": {},
     "output_type": "execute_result"
    }
   ],
   "source": [
    "type(data)"
   ]
  },
  {
   "cell_type": "code",
   "execution_count": 29,
   "metadata": {},
   "outputs": [],
   "source": [
    "fare_mean = data[\"fare_amount\"].mean()"
   ]
  },
  {
   "cell_type": "code",
   "execution_count": 30,
   "metadata": {},
   "outputs": [
    {
     "data": {
      "text/plain": [
       "13.02977364806841"
      ]
     },
     "execution_count": 30,
     "metadata": {},
     "output_type": "execute_result"
    }
   ],
   "source": [
    "fare_mean"
   ]
  },
  {
   "cell_type": "code",
   "execution_count": 31,
   "metadata": {},
   "outputs": [],
   "source": [
    "new_df = data[(data[\"VendorID\"] == 2) & (data[\"fare_amount\"] < fare_mean) & (data[\"passenger_count\"] > 5)]"
   ]
  },
  {
   "cell_type": "code",
   "execution_count": 32,
   "metadata": {},
   "outputs": [
    {
     "data": {
      "text/html": [
       "<div>\n",
       "<style scoped>\n",
       "    .dataframe tbody tr th:only-of-type {\n",
       "        vertical-align: middle;\n",
       "    }\n",
       "\n",
       "    .dataframe tbody tr th {\n",
       "        vertical-align: top;\n",
       "    }\n",
       "\n",
       "    .dataframe thead th {\n",
       "        text-align: right;\n",
       "    }\n",
       "</style>\n",
       "<table border=\"1\" class=\"dataframe\">\n",
       "  <thead>\n",
       "    <tr style=\"text-align: right;\">\n",
       "      <th></th>\n",
       "      <th>VendorID</th>\n",
       "      <th>tpep_pickup_datetime</th>\n",
       "      <th>tpep_dropoff_datetime</th>\n",
       "      <th>passenger_count</th>\n",
       "      <th>PULocationID</th>\n",
       "      <th>DOLocationID</th>\n",
       "      <th>fare_amount</th>\n",
       "      <th>weekday</th>\n",
       "    </tr>\n",
       "  </thead>\n",
       "  <tbody>\n",
       "    <tr>\n",
       "      <td>195</td>\n",
       "      <td>2.0</td>\n",
       "      <td>2020-01-01 00:38:43</td>\n",
       "      <td>2020-01-01 00:54:55</td>\n",
       "      <td>6.0</td>\n",
       "      <td>236</td>\n",
       "      <td>170</td>\n",
       "      <td>12.0</td>\n",
       "      <td>Wednesday</td>\n",
       "    </tr>\n",
       "    <tr>\n",
       "      <td>218</td>\n",
       "      <td>2.0</td>\n",
       "      <td>2020-01-01 00:24:07</td>\n",
       "      <td>2020-01-01 00:27:48</td>\n",
       "      <td>6.0</td>\n",
       "      <td>129</td>\n",
       "      <td>260</td>\n",
       "      <td>5.5</td>\n",
       "      <td>Wednesday</td>\n",
       "    </tr>\n",
       "    <tr>\n",
       "      <td>219</td>\n",
       "      <td>2.0</td>\n",
       "      <td>2020-01-01 00:39:43</td>\n",
       "      <td>2020-01-01 00:45:55</td>\n",
       "      <td>6.0</td>\n",
       "      <td>226</td>\n",
       "      <td>260</td>\n",
       "      <td>7.0</td>\n",
       "      <td>Wednesday</td>\n",
       "    </tr>\n",
       "    <tr>\n",
       "      <td>220</td>\n",
       "      <td>2.0</td>\n",
       "      <td>2020-01-01 00:48:29</td>\n",
       "      <td>2020-01-01 00:55:05</td>\n",
       "      <td>6.0</td>\n",
       "      <td>260</td>\n",
       "      <td>129</td>\n",
       "      <td>6.5</td>\n",
       "      <td>Wednesday</td>\n",
       "    </tr>\n",
       "    <tr>\n",
       "      <td>453</td>\n",
       "      <td>2.0</td>\n",
       "      <td>2020-01-01 00:47:13</td>\n",
       "      <td>2020-01-01 00:54:52</td>\n",
       "      <td>6.0</td>\n",
       "      <td>161</td>\n",
       "      <td>140</td>\n",
       "      <td>7.5</td>\n",
       "      <td>Wednesday</td>\n",
       "    </tr>\n",
       "  </tbody>\n",
       "</table>\n",
       "</div>"
      ],
      "text/plain": [
       "     VendorID tpep_pickup_datetime tpep_dropoff_datetime  passenger_count  \\\n",
       "195       2.0  2020-01-01 00:38:43   2020-01-01 00:54:55              6.0   \n",
       "218       2.0  2020-01-01 00:24:07   2020-01-01 00:27:48              6.0   \n",
       "219       2.0  2020-01-01 00:39:43   2020-01-01 00:45:55              6.0   \n",
       "220       2.0  2020-01-01 00:48:29   2020-01-01 00:55:05              6.0   \n",
       "453       2.0  2020-01-01 00:47:13   2020-01-01 00:54:52              6.0   \n",
       "\n",
       "     PULocationID  DOLocationID  fare_amount    weekday  \n",
       "195           236           170         12.0  Wednesday  \n",
       "218           129           260          5.5  Wednesday  \n",
       "219           226           260          7.0  Wednesday  \n",
       "220           260           129          6.5  Wednesday  \n",
       "453           161           140          7.5  Wednesday  "
      ]
     },
     "execution_count": 32,
     "metadata": {},
     "output_type": "execute_result"
    }
   ],
   "source": [
    "new_df.head()"
   ]
  },
  {
   "cell_type": "code",
   "execution_count": 33,
   "metadata": {},
   "outputs": [
    {
     "data": {
      "text/html": [
       "<div>\n",
       "<style scoped>\n",
       "    .dataframe tbody tr th:only-of-type {\n",
       "        vertical-align: middle;\n",
       "    }\n",
       "\n",
       "    .dataframe tbody tr th {\n",
       "        vertical-align: top;\n",
       "    }\n",
       "\n",
       "    .dataframe thead th {\n",
       "        text-align: right;\n",
       "    }\n",
       "</style>\n",
       "<table border=\"1\" class=\"dataframe\">\n",
       "  <thead>\n",
       "    <tr style=\"text-align: right;\">\n",
       "      <th></th>\n",
       "      <th>VendorID</th>\n",
       "      <th>tpep_pickup_datetime</th>\n",
       "      <th>tpep_dropoff_datetime</th>\n",
       "      <th>passenger_count</th>\n",
       "      <th>PULocationID</th>\n",
       "      <th>DOLocationID</th>\n",
       "      <th>fare_amount</th>\n",
       "      <th>weekday</th>\n",
       "    </tr>\n",
       "  </thead>\n",
       "  <tbody>\n",
       "    <tr>\n",
       "      <td>195</td>\n",
       "      <td>False</td>\n",
       "      <td>False</td>\n",
       "      <td>False</td>\n",
       "      <td>False</td>\n",
       "      <td>False</td>\n",
       "      <td>False</td>\n",
       "      <td>False</td>\n",
       "      <td>False</td>\n",
       "    </tr>\n",
       "    <tr>\n",
       "      <td>218</td>\n",
       "      <td>False</td>\n",
       "      <td>False</td>\n",
       "      <td>False</td>\n",
       "      <td>False</td>\n",
       "      <td>False</td>\n",
       "      <td>False</td>\n",
       "      <td>False</td>\n",
       "      <td>False</td>\n",
       "    </tr>\n",
       "    <tr>\n",
       "      <td>219</td>\n",
       "      <td>False</td>\n",
       "      <td>False</td>\n",
       "      <td>False</td>\n",
       "      <td>False</td>\n",
       "      <td>False</td>\n",
       "      <td>False</td>\n",
       "      <td>False</td>\n",
       "      <td>False</td>\n",
       "    </tr>\n",
       "    <tr>\n",
       "      <td>220</td>\n",
       "      <td>False</td>\n",
       "      <td>False</td>\n",
       "      <td>False</td>\n",
       "      <td>False</td>\n",
       "      <td>False</td>\n",
       "      <td>False</td>\n",
       "      <td>False</td>\n",
       "      <td>False</td>\n",
       "    </tr>\n",
       "    <tr>\n",
       "      <td>453</td>\n",
       "      <td>False</td>\n",
       "      <td>False</td>\n",
       "      <td>False</td>\n",
       "      <td>False</td>\n",
       "      <td>False</td>\n",
       "      <td>False</td>\n",
       "      <td>False</td>\n",
       "      <td>False</td>\n",
       "    </tr>\n",
       "    <tr>\n",
       "      <td>...</td>\n",
       "      <td>...</td>\n",
       "      <td>...</td>\n",
       "      <td>...</td>\n",
       "      <td>...</td>\n",
       "      <td>...</td>\n",
       "      <td>...</td>\n",
       "      <td>...</td>\n",
       "      <td>...</td>\n",
       "    </tr>\n",
       "    <tr>\n",
       "      <td>1227569</td>\n",
       "      <td>False</td>\n",
       "      <td>False</td>\n",
       "      <td>False</td>\n",
       "      <td>False</td>\n",
       "      <td>False</td>\n",
       "      <td>False</td>\n",
       "      <td>False</td>\n",
       "      <td>False</td>\n",
       "    </tr>\n",
       "    <tr>\n",
       "      <td>1227576</td>\n",
       "      <td>False</td>\n",
       "      <td>False</td>\n",
       "      <td>False</td>\n",
       "      <td>False</td>\n",
       "      <td>False</td>\n",
       "      <td>False</td>\n",
       "      <td>False</td>\n",
       "      <td>False</td>\n",
       "    </tr>\n",
       "    <tr>\n",
       "      <td>1227577</td>\n",
       "      <td>False</td>\n",
       "      <td>False</td>\n",
       "      <td>False</td>\n",
       "      <td>False</td>\n",
       "      <td>False</td>\n",
       "      <td>False</td>\n",
       "      <td>False</td>\n",
       "      <td>False</td>\n",
       "    </tr>\n",
       "    <tr>\n",
       "      <td>1227592</td>\n",
       "      <td>False</td>\n",
       "      <td>False</td>\n",
       "      <td>False</td>\n",
       "      <td>False</td>\n",
       "      <td>False</td>\n",
       "      <td>False</td>\n",
       "      <td>False</td>\n",
       "      <td>False</td>\n",
       "    </tr>\n",
       "    <tr>\n",
       "      <td>1227611</td>\n",
       "      <td>False</td>\n",
       "      <td>False</td>\n",
       "      <td>False</td>\n",
       "      <td>False</td>\n",
       "      <td>False</td>\n",
       "      <td>False</td>\n",
       "      <td>False</td>\n",
       "      <td>False</td>\n",
       "    </tr>\n",
       "  </tbody>\n",
       "</table>\n",
       "<p>19443 rows × 8 columns</p>\n",
       "</div>"
      ],
      "text/plain": [
       "         VendorID  tpep_pickup_datetime  tpep_dropoff_datetime  \\\n",
       "195         False                 False                  False   \n",
       "218         False                 False                  False   \n",
       "219         False                 False                  False   \n",
       "220         False                 False                  False   \n",
       "453         False                 False                  False   \n",
       "...           ...                   ...                    ...   \n",
       "1227569     False                 False                  False   \n",
       "1227576     False                 False                  False   \n",
       "1227577     False                 False                  False   \n",
       "1227592     False                 False                  False   \n",
       "1227611     False                 False                  False   \n",
       "\n",
       "         passenger_count  PULocationID  DOLocationID  fare_amount  weekday  \n",
       "195                False         False         False        False    False  \n",
       "218                False         False         False        False    False  \n",
       "219                False         False         False        False    False  \n",
       "220                False         False         False        False    False  \n",
       "453                False         False         False        False    False  \n",
       "...                  ...           ...           ...          ...      ...  \n",
       "1227569            False         False         False        False    False  \n",
       "1227576            False         False         False        False    False  \n",
       "1227577            False         False         False        False    False  \n",
       "1227592            False         False         False        False    False  \n",
       "1227611            False         False         False        False    False  \n",
       "\n",
       "[19443 rows x 8 columns]"
      ]
     },
     "execution_count": 33,
     "metadata": {},
     "output_type": "execute_result"
    }
   ],
   "source": [
    "new_df.isnull()"
   ]
  },
  {
   "cell_type": "code",
   "execution_count": 34,
   "metadata": {},
   "outputs": [
    {
     "data": {
      "text/html": [
       "<div>\n",
       "<style scoped>\n",
       "    .dataframe tbody tr th:only-of-type {\n",
       "        vertical-align: middle;\n",
       "    }\n",
       "\n",
       "    .dataframe tbody tr th {\n",
       "        vertical-align: top;\n",
       "    }\n",
       "\n",
       "    .dataframe thead th {\n",
       "        text-align: right;\n",
       "    }\n",
       "</style>\n",
       "<table border=\"1\" class=\"dataframe\">\n",
       "  <thead>\n",
       "    <tr style=\"text-align: right;\">\n",
       "      <th></th>\n",
       "      <th>VendorID</th>\n",
       "      <th>tpep_pickup_datetime</th>\n",
       "      <th>tpep_dropoff_datetime</th>\n",
       "      <th>passenger_count</th>\n",
       "      <th>PULocationID</th>\n",
       "      <th>DOLocationID</th>\n",
       "      <th>fare_amount</th>\n",
       "      <th>weekday</th>\n",
       "    </tr>\n",
       "  </thead>\n",
       "  <tbody>\n",
       "    <tr>\n",
       "      <td>195</td>\n",
       "      <td>2.0</td>\n",
       "      <td>2020-01-01 00:38:43</td>\n",
       "      <td>2020-01-01 00:54:55</td>\n",
       "      <td>6.0</td>\n",
       "      <td>236</td>\n",
       "      <td>170</td>\n",
       "      <td>12.0</td>\n",
       "      <td>Wednesday</td>\n",
       "    </tr>\n",
       "    <tr>\n",
       "      <td>218</td>\n",
       "      <td>2.0</td>\n",
       "      <td>2020-01-01 00:24:07</td>\n",
       "      <td>2020-01-01 00:27:48</td>\n",
       "      <td>6.0</td>\n",
       "      <td>129</td>\n",
       "      <td>260</td>\n",
       "      <td>5.5</td>\n",
       "      <td>Wednesday</td>\n",
       "    </tr>\n",
       "    <tr>\n",
       "      <td>219</td>\n",
       "      <td>2.0</td>\n",
       "      <td>2020-01-01 00:39:43</td>\n",
       "      <td>2020-01-01 00:45:55</td>\n",
       "      <td>6.0</td>\n",
       "      <td>226</td>\n",
       "      <td>260</td>\n",
       "      <td>7.0</td>\n",
       "      <td>Wednesday</td>\n",
       "    </tr>\n",
       "    <tr>\n",
       "      <td>220</td>\n",
       "      <td>2.0</td>\n",
       "      <td>2020-01-01 00:48:29</td>\n",
       "      <td>2020-01-01 00:55:05</td>\n",
       "      <td>6.0</td>\n",
       "      <td>260</td>\n",
       "      <td>129</td>\n",
       "      <td>6.5</td>\n",
       "      <td>Wednesday</td>\n",
       "    </tr>\n",
       "    <tr>\n",
       "      <td>453</td>\n",
       "      <td>2.0</td>\n",
       "      <td>2020-01-01 00:47:13</td>\n",
       "      <td>2020-01-01 00:54:52</td>\n",
       "      <td>6.0</td>\n",
       "      <td>161</td>\n",
       "      <td>140</td>\n",
       "      <td>7.5</td>\n",
       "      <td>Wednesday</td>\n",
       "    </tr>\n",
       "    <tr>\n",
       "      <td>...</td>\n",
       "      <td>...</td>\n",
       "      <td>...</td>\n",
       "      <td>...</td>\n",
       "      <td>...</td>\n",
       "      <td>...</td>\n",
       "      <td>...</td>\n",
       "      <td>...</td>\n",
       "      <td>...</td>\n",
       "    </tr>\n",
       "    <tr>\n",
       "      <td>1227569</td>\n",
       "      <td>2.0</td>\n",
       "      <td>2020-01-07 20:28:35</td>\n",
       "      <td>2020-01-07 20:35:20</td>\n",
       "      <td>6.0</td>\n",
       "      <td>163</td>\n",
       "      <td>170</td>\n",
       "      <td>7.0</td>\n",
       "      <td>Tuesday</td>\n",
       "    </tr>\n",
       "    <tr>\n",
       "      <td>1227576</td>\n",
       "      <td>2.0</td>\n",
       "      <td>2020-01-07 23:57:24</td>\n",
       "      <td>2020-01-08 00:05:22</td>\n",
       "      <td>6.0</td>\n",
       "      <td>229</td>\n",
       "      <td>186</td>\n",
       "      <td>8.0</td>\n",
       "      <td>Tuesday</td>\n",
       "    </tr>\n",
       "    <tr>\n",
       "      <td>1227577</td>\n",
       "      <td>2.0</td>\n",
       "      <td>2020-01-07 23:55:28</td>\n",
       "      <td>2020-01-08 00:01:55</td>\n",
       "      <td>6.0</td>\n",
       "      <td>230</td>\n",
       "      <td>163</td>\n",
       "      <td>6.0</td>\n",
       "      <td>Tuesday</td>\n",
       "    </tr>\n",
       "    <tr>\n",
       "      <td>1227592</td>\n",
       "      <td>2.0</td>\n",
       "      <td>2020-01-07 23:58:26</td>\n",
       "      <td>2020-01-08 00:07:45</td>\n",
       "      <td>6.0</td>\n",
       "      <td>161</td>\n",
       "      <td>79</td>\n",
       "      <td>9.5</td>\n",
       "      <td>Tuesday</td>\n",
       "    </tr>\n",
       "    <tr>\n",
       "      <td>1227611</td>\n",
       "      <td>2.0</td>\n",
       "      <td>2020-01-07 23:59:13</td>\n",
       "      <td>2020-01-08 00:04:34</td>\n",
       "      <td>6.0</td>\n",
       "      <td>142</td>\n",
       "      <td>238</td>\n",
       "      <td>6.5</td>\n",
       "      <td>Tuesday</td>\n",
       "    </tr>\n",
       "  </tbody>\n",
       "</table>\n",
       "<p>19443 rows × 8 columns</p>\n",
       "</div>"
      ],
      "text/plain": [
       "         VendorID tpep_pickup_datetime tpep_dropoff_datetime  passenger_count  \\\n",
       "195           2.0  2020-01-01 00:38:43   2020-01-01 00:54:55              6.0   \n",
       "218           2.0  2020-01-01 00:24:07   2020-01-01 00:27:48              6.0   \n",
       "219           2.0  2020-01-01 00:39:43   2020-01-01 00:45:55              6.0   \n",
       "220           2.0  2020-01-01 00:48:29   2020-01-01 00:55:05              6.0   \n",
       "453           2.0  2020-01-01 00:47:13   2020-01-01 00:54:52              6.0   \n",
       "...           ...                  ...                   ...              ...   \n",
       "1227569       2.0  2020-01-07 20:28:35   2020-01-07 20:35:20              6.0   \n",
       "1227576       2.0  2020-01-07 23:57:24   2020-01-08 00:05:22              6.0   \n",
       "1227577       2.0  2020-01-07 23:55:28   2020-01-08 00:01:55              6.0   \n",
       "1227592       2.0  2020-01-07 23:58:26   2020-01-08 00:07:45              6.0   \n",
       "1227611       2.0  2020-01-07 23:59:13   2020-01-08 00:04:34              6.0   \n",
       "\n",
       "         PULocationID  DOLocationID  fare_amount    weekday  \n",
       "195               236           170         12.0  Wednesday  \n",
       "218               129           260          5.5  Wednesday  \n",
       "219               226           260          7.0  Wednesday  \n",
       "220               260           129          6.5  Wednesday  \n",
       "453               161           140          7.5  Wednesday  \n",
       "...               ...           ...          ...        ...  \n",
       "1227569           163           170          7.0    Tuesday  \n",
       "1227576           229           186          8.0    Tuesday  \n",
       "1227577           230           163          6.0    Tuesday  \n",
       "1227592           161            79          9.5    Tuesday  \n",
       "1227611           142           238          6.5    Tuesday  \n",
       "\n",
       "[19443 rows x 8 columns]"
      ]
     },
     "execution_count": 34,
     "metadata": {},
     "output_type": "execute_result"
    }
   ],
   "source": [
    "new_df"
   ]
  },
  {
   "cell_type": "code",
   "execution_count": 35,
   "metadata": {},
   "outputs": [
    {
     "ename": "ValueError",
     "evalue": "The truth value of a Series is ambiguous. Use a.empty, a.bool(), a.item(), a.any() or a.all().",
     "output_type": "error",
     "traceback": [
      "\u001b[1;31m---------------------------------------------------------------------------\u001b[0m",
      "\u001b[1;31mValueError\u001b[0m                                Traceback (most recent call last)",
      "\u001b[1;32m<ipython-input-35-aeed9f26fe7a>\u001b[0m in \u001b[0;36m<module>\u001b[1;34m\u001b[0m\n\u001b[1;32m----> 1\u001b[1;33m \u001b[1;32mif\u001b[0m\u001b[1;33m(\u001b[0m\u001b[1;33m(\u001b[0m\u001b[0mnew_df\u001b[0m\u001b[1;33m[\u001b[0m\u001b[1;34m\"fare_amount\"\u001b[0m\u001b[1;33m]\u001b[0m \u001b[1;33m>\u001b[0m \u001b[1;36m14\u001b[0m\u001b[1;33m)\u001b[0m\u001b[1;33m)\u001b[0m\u001b[1;33m:\u001b[0m\u001b[1;33m\u001b[0m\u001b[1;33m\u001b[0m\u001b[0m\n\u001b[0m\u001b[0;32m      2\u001b[0m     \u001b[0mprint\u001b[0m\u001b[1;33m(\u001b[0m\u001b[1;34m'shit'\u001b[0m\u001b[1;33m)\u001b[0m\u001b[1;33m\u001b[0m\u001b[1;33m\u001b[0m\u001b[0m\n",
      "\u001b[1;32m~\\Anaconda3\\lib\\site-packages\\pandas\\core\\generic.py\u001b[0m in \u001b[0;36m__nonzero__\u001b[1;34m(self)\u001b[0m\n\u001b[0;32m   1553\u001b[0m             \u001b[1;34m\"The truth value of a {0} is ambiguous. \"\u001b[0m\u001b[1;33m\u001b[0m\u001b[1;33m\u001b[0m\u001b[0m\n\u001b[0;32m   1554\u001b[0m             \"Use a.empty, a.bool(), a.item(), a.any() or a.all().\".format(\n\u001b[1;32m-> 1555\u001b[1;33m                 \u001b[0mself\u001b[0m\u001b[1;33m.\u001b[0m\u001b[0m__class__\u001b[0m\u001b[1;33m.\u001b[0m\u001b[0m__name__\u001b[0m\u001b[1;33m\u001b[0m\u001b[1;33m\u001b[0m\u001b[0m\n\u001b[0m\u001b[0;32m   1556\u001b[0m             )\n\u001b[0;32m   1557\u001b[0m         )\n",
      "\u001b[1;31mValueError\u001b[0m: The truth value of a Series is ambiguous. Use a.empty, a.bool(), a.item(), a.any() or a.all()."
     ]
    }
   ],
   "source": [
    "if((new_df[\"fare_amount\"] > 14)):\n",
    "    print('shit')"
   ]
  },
  {
   "cell_type": "code",
   "execution_count": 36,
   "metadata": {},
   "outputs": [
    {
     "data": {
      "text/html": [
       "<div>\n",
       "<style scoped>\n",
       "    .dataframe tbody tr th:only-of-type {\n",
       "        vertical-align: middle;\n",
       "    }\n",
       "\n",
       "    .dataframe tbody tr th {\n",
       "        vertical-align: top;\n",
       "    }\n",
       "\n",
       "    .dataframe thead th {\n",
       "        text-align: right;\n",
       "    }\n",
       "</style>\n",
       "<table border=\"1\" class=\"dataframe\">\n",
       "  <thead>\n",
       "    <tr style=\"text-align: right;\">\n",
       "      <th></th>\n",
       "      <th>VendorID</th>\n",
       "      <th>tpep_pickup_datetime</th>\n",
       "      <th>tpep_dropoff_datetime</th>\n",
       "      <th>passenger_count</th>\n",
       "      <th>PULocationID</th>\n",
       "      <th>DOLocationID</th>\n",
       "      <th>fare_amount</th>\n",
       "      <th>weekday</th>\n",
       "    </tr>\n",
       "  </thead>\n",
       "  <tbody>\n",
       "    <tr>\n",
       "      <td>195</td>\n",
       "      <td>2.0</td>\n",
       "      <td>2020-01-01 00:38:43</td>\n",
       "      <td>2020-01-01 00:54:55</td>\n",
       "      <td>6.0</td>\n",
       "      <td>236</td>\n",
       "      <td>170</td>\n",
       "      <td>12.0</td>\n",
       "      <td>Wednesday</td>\n",
       "    </tr>\n",
       "    <tr>\n",
       "      <td>218</td>\n",
       "      <td>2.0</td>\n",
       "      <td>2020-01-01 00:24:07</td>\n",
       "      <td>2020-01-01 00:27:48</td>\n",
       "      <td>6.0</td>\n",
       "      <td>129</td>\n",
       "      <td>260</td>\n",
       "      <td>5.5</td>\n",
       "      <td>Wednesday</td>\n",
       "    </tr>\n",
       "    <tr>\n",
       "      <td>219</td>\n",
       "      <td>2.0</td>\n",
       "      <td>2020-01-01 00:39:43</td>\n",
       "      <td>2020-01-01 00:45:55</td>\n",
       "      <td>6.0</td>\n",
       "      <td>226</td>\n",
       "      <td>260</td>\n",
       "      <td>7.0</td>\n",
       "      <td>Wednesday</td>\n",
       "    </tr>\n",
       "    <tr>\n",
       "      <td>220</td>\n",
       "      <td>2.0</td>\n",
       "      <td>2020-01-01 00:48:29</td>\n",
       "      <td>2020-01-01 00:55:05</td>\n",
       "      <td>6.0</td>\n",
       "      <td>260</td>\n",
       "      <td>129</td>\n",
       "      <td>6.5</td>\n",
       "      <td>Wednesday</td>\n",
       "    </tr>\n",
       "    <tr>\n",
       "      <td>453</td>\n",
       "      <td>2.0</td>\n",
       "      <td>2020-01-01 00:47:13</td>\n",
       "      <td>2020-01-01 00:54:52</td>\n",
       "      <td>6.0</td>\n",
       "      <td>161</td>\n",
       "      <td>140</td>\n",
       "      <td>7.5</td>\n",
       "      <td>Wednesday</td>\n",
       "    </tr>\n",
       "  </tbody>\n",
       "</table>\n",
       "</div>"
      ],
      "text/plain": [
       "     VendorID tpep_pickup_datetime tpep_dropoff_datetime  passenger_count  \\\n",
       "195       2.0  2020-01-01 00:38:43   2020-01-01 00:54:55              6.0   \n",
       "218       2.0  2020-01-01 00:24:07   2020-01-01 00:27:48              6.0   \n",
       "219       2.0  2020-01-01 00:39:43   2020-01-01 00:45:55              6.0   \n",
       "220       2.0  2020-01-01 00:48:29   2020-01-01 00:55:05              6.0   \n",
       "453       2.0  2020-01-01 00:47:13   2020-01-01 00:54:52              6.0   \n",
       "\n",
       "     PULocationID  DOLocationID  fare_amount    weekday  \n",
       "195           236           170         12.0  Wednesday  \n",
       "218           129           260          5.5  Wednesday  \n",
       "219           226           260          7.0  Wednesday  \n",
       "220           260           129          6.5  Wednesday  \n",
       "453           161           140          7.5  Wednesday  "
      ]
     },
     "execution_count": 36,
     "metadata": {},
     "output_type": "execute_result"
    }
   ],
   "source": [
    "new_df.head()"
   ]
  },
  {
   "cell_type": "code",
   "execution_count": 37,
   "metadata": {},
   "outputs": [
    {
     "name": "stderr",
     "output_type": "stream",
     "text": [
      "C:\\Users\\musab\\Anaconda3\\lib\\site-packages\\ipykernel_launcher.py:1: SettingWithCopyWarning: \n",
      "A value is trying to be set on a copy of a slice from a DataFrame.\n",
      "Try using .loc[row_indexer,col_indexer] = value instead\n",
      "\n",
      "See the caveats in the documentation: http://pandas.pydata.org/pandas-docs/stable/user_guide/indexing.html#returning-a-view-versus-a-copy\n",
      "  \"\"\"Entry point for launching an IPython kernel.\n"
     ]
    }
   ],
   "source": [
    "new_df['weekday'] = new_df.tpep_pickup_datetime.dt.day_name()"
   ]
  },
  {
   "cell_type": "code",
   "execution_count": 41,
   "metadata": {},
   "outputs": [
    {
     "data": {
      "text/html": [
       "<div>\n",
       "<style scoped>\n",
       "    .dataframe tbody tr th:only-of-type {\n",
       "        vertical-align: middle;\n",
       "    }\n",
       "\n",
       "    .dataframe tbody tr th {\n",
       "        vertical-align: top;\n",
       "    }\n",
       "\n",
       "    .dataframe thead th {\n",
       "        text-align: right;\n",
       "    }\n",
       "</style>\n",
       "<table border=\"1\" class=\"dataframe\">\n",
       "  <thead>\n",
       "    <tr style=\"text-align: right;\">\n",
       "      <th></th>\n",
       "      <th>VendorID</th>\n",
       "      <th>tpep_pickup_datetime</th>\n",
       "      <th>tpep_dropoff_datetime</th>\n",
       "      <th>passenger_count</th>\n",
       "      <th>PULocationID</th>\n",
       "      <th>DOLocationID</th>\n",
       "      <th>fare_amount</th>\n",
       "      <th>weekday</th>\n",
       "    </tr>\n",
       "  </thead>\n",
       "  <tbody>\n",
       "    <tr>\n",
       "      <td>195</td>\n",
       "      <td>2.0</td>\n",
       "      <td>2020-01-01 00:38:43</td>\n",
       "      <td>2020-01-01 00:54:55</td>\n",
       "      <td>6.0</td>\n",
       "      <td>236</td>\n",
       "      <td>170</td>\n",
       "      <td>12.0</td>\n",
       "      <td>Wednesday</td>\n",
       "    </tr>\n",
       "    <tr>\n",
       "      <td>218</td>\n",
       "      <td>2.0</td>\n",
       "      <td>2020-01-01 00:24:07</td>\n",
       "      <td>2020-01-01 00:27:48</td>\n",
       "      <td>6.0</td>\n",
       "      <td>129</td>\n",
       "      <td>260</td>\n",
       "      <td>5.5</td>\n",
       "      <td>Wednesday</td>\n",
       "    </tr>\n",
       "    <tr>\n",
       "      <td>219</td>\n",
       "      <td>2.0</td>\n",
       "      <td>2020-01-01 00:39:43</td>\n",
       "      <td>2020-01-01 00:45:55</td>\n",
       "      <td>6.0</td>\n",
       "      <td>226</td>\n",
       "      <td>260</td>\n",
       "      <td>7.0</td>\n",
       "      <td>Wednesday</td>\n",
       "    </tr>\n",
       "    <tr>\n",
       "      <td>220</td>\n",
       "      <td>2.0</td>\n",
       "      <td>2020-01-01 00:48:29</td>\n",
       "      <td>2020-01-01 00:55:05</td>\n",
       "      <td>6.0</td>\n",
       "      <td>260</td>\n",
       "      <td>129</td>\n",
       "      <td>6.5</td>\n",
       "      <td>Wednesday</td>\n",
       "    </tr>\n",
       "    <tr>\n",
       "      <td>453</td>\n",
       "      <td>2.0</td>\n",
       "      <td>2020-01-01 00:47:13</td>\n",
       "      <td>2020-01-01 00:54:52</td>\n",
       "      <td>6.0</td>\n",
       "      <td>161</td>\n",
       "      <td>140</td>\n",
       "      <td>7.5</td>\n",
       "      <td>Wednesday</td>\n",
       "    </tr>\n",
       "    <tr>\n",
       "      <td>...</td>\n",
       "      <td>...</td>\n",
       "      <td>...</td>\n",
       "      <td>...</td>\n",
       "      <td>...</td>\n",
       "      <td>...</td>\n",
       "      <td>...</td>\n",
       "      <td>...</td>\n",
       "      <td>...</td>\n",
       "    </tr>\n",
       "    <tr>\n",
       "      <td>1227569</td>\n",
       "      <td>2.0</td>\n",
       "      <td>2020-01-07 20:28:35</td>\n",
       "      <td>2020-01-07 20:35:20</td>\n",
       "      <td>6.0</td>\n",
       "      <td>163</td>\n",
       "      <td>170</td>\n",
       "      <td>7.0</td>\n",
       "      <td>Tuesday</td>\n",
       "    </tr>\n",
       "    <tr>\n",
       "      <td>1227576</td>\n",
       "      <td>2.0</td>\n",
       "      <td>2020-01-07 23:57:24</td>\n",
       "      <td>2020-01-08 00:05:22</td>\n",
       "      <td>6.0</td>\n",
       "      <td>229</td>\n",
       "      <td>186</td>\n",
       "      <td>8.0</td>\n",
       "      <td>Tuesday</td>\n",
       "    </tr>\n",
       "    <tr>\n",
       "      <td>1227577</td>\n",
       "      <td>2.0</td>\n",
       "      <td>2020-01-07 23:55:28</td>\n",
       "      <td>2020-01-08 00:01:55</td>\n",
       "      <td>6.0</td>\n",
       "      <td>230</td>\n",
       "      <td>163</td>\n",
       "      <td>6.0</td>\n",
       "      <td>Tuesday</td>\n",
       "    </tr>\n",
       "    <tr>\n",
       "      <td>1227592</td>\n",
       "      <td>2.0</td>\n",
       "      <td>2020-01-07 23:58:26</td>\n",
       "      <td>2020-01-08 00:07:45</td>\n",
       "      <td>6.0</td>\n",
       "      <td>161</td>\n",
       "      <td>79</td>\n",
       "      <td>9.5</td>\n",
       "      <td>Tuesday</td>\n",
       "    </tr>\n",
       "    <tr>\n",
       "      <td>1227611</td>\n",
       "      <td>2.0</td>\n",
       "      <td>2020-01-07 23:59:13</td>\n",
       "      <td>2020-01-08 00:04:34</td>\n",
       "      <td>6.0</td>\n",
       "      <td>142</td>\n",
       "      <td>238</td>\n",
       "      <td>6.5</td>\n",
       "      <td>Tuesday</td>\n",
       "    </tr>\n",
       "  </tbody>\n",
       "</table>\n",
       "<p>19443 rows × 8 columns</p>\n",
       "</div>"
      ],
      "text/plain": [
       "         VendorID tpep_pickup_datetime tpep_dropoff_datetime  passenger_count  \\\n",
       "195           2.0  2020-01-01 00:38:43   2020-01-01 00:54:55              6.0   \n",
       "218           2.0  2020-01-01 00:24:07   2020-01-01 00:27:48              6.0   \n",
       "219           2.0  2020-01-01 00:39:43   2020-01-01 00:45:55              6.0   \n",
       "220           2.0  2020-01-01 00:48:29   2020-01-01 00:55:05              6.0   \n",
       "453           2.0  2020-01-01 00:47:13   2020-01-01 00:54:52              6.0   \n",
       "...           ...                  ...                   ...              ...   \n",
       "1227569       2.0  2020-01-07 20:28:35   2020-01-07 20:35:20              6.0   \n",
       "1227576       2.0  2020-01-07 23:57:24   2020-01-08 00:05:22              6.0   \n",
       "1227577       2.0  2020-01-07 23:55:28   2020-01-08 00:01:55              6.0   \n",
       "1227592       2.0  2020-01-07 23:58:26   2020-01-08 00:07:45              6.0   \n",
       "1227611       2.0  2020-01-07 23:59:13   2020-01-08 00:04:34              6.0   \n",
       "\n",
       "         PULocationID  DOLocationID  fare_amount    weekday  \n",
       "195               236           170         12.0  Wednesday  \n",
       "218               129           260          5.5  Wednesday  \n",
       "219               226           260          7.0  Wednesday  \n",
       "220               260           129          6.5  Wednesday  \n",
       "453               161           140          7.5  Wednesday  \n",
       "...               ...           ...          ...        ...  \n",
       "1227569           163           170          7.0    Tuesday  \n",
       "1227576           229           186          8.0    Tuesday  \n",
       "1227577           230           163          6.0    Tuesday  \n",
       "1227592           161            79          9.5    Tuesday  \n",
       "1227611           142           238          6.5    Tuesday  \n",
       "\n",
       "[19443 rows x 8 columns]"
      ]
     },
     "execution_count": 41,
     "metadata": {},
     "output_type": "execute_result"
    }
   ],
   "source": [
    "new_df.groupby(['tpep_pickup_datetime', 'weekday']).head()"
   ]
  },
  {
   "cell_type": "code",
   "execution_count": 43,
   "metadata": {},
   "outputs": [
    {
     "ename": "TypeError",
     "evalue": "unhashable type: 'list'",
     "output_type": "error",
     "traceback": [
      "\u001b[1;31m---------------------------------------------------------------------------\u001b[0m",
      "\u001b[1;31mTypeError\u001b[0m                                 Traceback (most recent call last)",
      "\u001b[1;32m<ipython-input-43-7e092b1dabb4>\u001b[0m in \u001b[0;36m<module>\u001b[1;34m\u001b[0m\n\u001b[1;32m----> 1\u001b[1;33m \u001b[0mnew_df\u001b[0m\u001b[1;33m.\u001b[0m\u001b[0mcount\u001b[0m\u001b[1;33m(\u001b[0m\u001b[1;33m[\u001b[0m\u001b[1;34m'weekday'\u001b[0m\u001b[1;33m]\u001b[0m\u001b[1;33m)\u001b[0m\u001b[1;33m\u001b[0m\u001b[1;33m\u001b[0m\u001b[0m\n\u001b[0m",
      "\u001b[1;32m~\\Anaconda3\\lib\\site-packages\\pandas\\core\\frame.py\u001b[0m in \u001b[0;36mcount\u001b[1;34m(self, axis, level, numeric_only)\u001b[0m\n\u001b[0;32m   7810\u001b[0m         \u001b[0mMyla\u001b[0m      \u001b[1;36m1\u001b[0m\u001b[1;33m\u001b[0m\u001b[1;33m\u001b[0m\u001b[0m\n\u001b[0;32m   7811\u001b[0m         \"\"\"\n\u001b[1;32m-> 7812\u001b[1;33m         \u001b[0maxis\u001b[0m \u001b[1;33m=\u001b[0m \u001b[0mself\u001b[0m\u001b[1;33m.\u001b[0m\u001b[0m_get_axis_number\u001b[0m\u001b[1;33m(\u001b[0m\u001b[0maxis\u001b[0m\u001b[1;33m)\u001b[0m\u001b[1;33m\u001b[0m\u001b[1;33m\u001b[0m\u001b[0m\n\u001b[0m\u001b[0;32m   7813\u001b[0m         \u001b[1;32mif\u001b[0m \u001b[0mlevel\u001b[0m \u001b[1;32mis\u001b[0m \u001b[1;32mnot\u001b[0m \u001b[1;32mNone\u001b[0m\u001b[1;33m:\u001b[0m\u001b[1;33m\u001b[0m\u001b[1;33m\u001b[0m\u001b[0m\n\u001b[0;32m   7814\u001b[0m             \u001b[1;32mreturn\u001b[0m \u001b[0mself\u001b[0m\u001b[1;33m.\u001b[0m\u001b[0m_count_level\u001b[0m\u001b[1;33m(\u001b[0m\u001b[0mlevel\u001b[0m\u001b[1;33m,\u001b[0m \u001b[0maxis\u001b[0m\u001b[1;33m=\u001b[0m\u001b[0maxis\u001b[0m\u001b[1;33m,\u001b[0m \u001b[0mnumeric_only\u001b[0m\u001b[1;33m=\u001b[0m\u001b[0mnumeric_only\u001b[0m\u001b[1;33m)\u001b[0m\u001b[1;33m\u001b[0m\u001b[1;33m\u001b[0m\u001b[0m\n",
      "\u001b[1;32m~\\Anaconda3\\lib\\site-packages\\pandas\\core\\generic.py\u001b[0m in \u001b[0;36m_get_axis_number\u001b[1;34m(cls, axis)\u001b[0m\n\u001b[0;32m    400\u001b[0m     \u001b[1;33m@\u001b[0m\u001b[0mclassmethod\u001b[0m\u001b[1;33m\u001b[0m\u001b[1;33m\u001b[0m\u001b[0m\n\u001b[0;32m    401\u001b[0m     \u001b[1;32mdef\u001b[0m \u001b[0m_get_axis_number\u001b[0m\u001b[1;33m(\u001b[0m\u001b[0mcls\u001b[0m\u001b[1;33m,\u001b[0m \u001b[0maxis\u001b[0m\u001b[1;33m)\u001b[0m\u001b[1;33m:\u001b[0m\u001b[1;33m\u001b[0m\u001b[1;33m\u001b[0m\u001b[0m\n\u001b[1;32m--> 402\u001b[1;33m         \u001b[0maxis\u001b[0m \u001b[1;33m=\u001b[0m \u001b[0mcls\u001b[0m\u001b[1;33m.\u001b[0m\u001b[0m_AXIS_ALIASES\u001b[0m\u001b[1;33m.\u001b[0m\u001b[0mget\u001b[0m\u001b[1;33m(\u001b[0m\u001b[0maxis\u001b[0m\u001b[1;33m,\u001b[0m \u001b[0maxis\u001b[0m\u001b[1;33m)\u001b[0m\u001b[1;33m\u001b[0m\u001b[1;33m\u001b[0m\u001b[0m\n\u001b[0m\u001b[0;32m    403\u001b[0m         \u001b[1;32mif\u001b[0m \u001b[0mis_integer\u001b[0m\u001b[1;33m(\u001b[0m\u001b[0maxis\u001b[0m\u001b[1;33m)\u001b[0m\u001b[1;33m:\u001b[0m\u001b[1;33m\u001b[0m\u001b[1;33m\u001b[0m\u001b[0m\n\u001b[0;32m    404\u001b[0m             \u001b[1;32mif\u001b[0m \u001b[0maxis\u001b[0m \u001b[1;32min\u001b[0m \u001b[0mcls\u001b[0m\u001b[1;33m.\u001b[0m\u001b[0m_AXIS_NAMES\u001b[0m\u001b[1;33m:\u001b[0m\u001b[1;33m\u001b[0m\u001b[1;33m\u001b[0m\u001b[0m\n",
      "\u001b[1;31mTypeError\u001b[0m: unhashable type: 'list'"
     ]
    }
   ],
   "source": [
    "new_df.count(['weekday'])"
   ]
  },
  {
   "cell_type": "code",
   "execution_count": 44,
   "metadata": {},
   "outputs": [
    {
     "data": {
      "text/plain": [
       "195        Wednesday\n",
       "218        Wednesday\n",
       "219        Wednesday\n",
       "220        Wednesday\n",
       "453        Wednesday\n",
       "             ...    \n",
       "1227569      Tuesday\n",
       "1227576      Tuesday\n",
       "1227577      Tuesday\n",
       "1227592      Tuesday\n",
       "1227611      Tuesday\n",
       "Name: weekday, Length: 19443, dtype: object"
      ]
     },
     "execution_count": 44,
     "metadata": {},
     "output_type": "execute_result"
    }
   ],
   "source": [
    "new_df.weekday"
   ]
  },
  {
   "cell_type": "code",
   "execution_count": 45,
   "metadata": {},
   "outputs": [
    {
     "data": {
      "text/plain": [
       "pandas.core.series.Series"
      ]
     },
     "execution_count": 45,
     "metadata": {},
     "output_type": "execute_result"
    }
   ],
   "source": [
    "type(new_df.weekday)"
   ]
  },
  {
   "cell_type": "code",
   "execution_count": 50,
   "metadata": {},
   "outputs": [
    {
     "data": {
      "text/plain": [
       "3075"
      ]
     },
     "execution_count": 50,
     "metadata": {},
     "output_type": "execute_result"
    }
   ],
   "source": [
    "len(new_df[(new_df[\"weekday\"] == \"Tuesday\")])"
   ]
  },
  {
   "cell_type": "code",
   "execution_count": 51,
   "metadata": {},
   "outputs": [
    {
     "data": {
      "text/plain": [
       "19443"
      ]
     },
     "execution_count": 51,
     "metadata": {},
     "output_type": "execute_result"
    }
   ],
   "source": [
    "len(new_df[\"weekday\"])"
   ]
  },
  {
   "cell_type": "code",
   "execution_count": 52,
   "metadata": {},
   "outputs": [
    {
     "data": {
      "text/plain": [
       "array(['Wednesday', 'Friday', 'Thursday', 'Saturday', 'Sunday', 'Monday',\n",
       "       'Tuesday'], dtype=object)"
      ]
     },
     "execution_count": 52,
     "metadata": {},
     "output_type": "execute_result"
    }
   ],
   "source": [
    "new_df['weekday'].unique()"
   ]
  },
  {
   "cell_type": "code",
   "execution_count": 54,
   "metadata": {},
   "outputs": [
    {
     "data": {
      "text/plain": [
       "16368"
      ]
     },
     "execution_count": 54,
     "metadata": {},
     "output_type": "execute_result"
    }
   ],
   "source": [
    "len(new_df[(new_df[\"weekday\"] != \"Tuesday\")])"
   ]
  },
  {
   "cell_type": "code",
   "execution_count": 56,
   "metadata": {},
   "outputs": [],
   "source": [
    "subset = new_df[[\"tpep_pickup_datetime\", \"weekday\"]]"
   ]
  },
  {
   "cell_type": "code",
   "execution_count": null,
   "metadata": {},
   "outputs": [],
   "source": []
  },
  {
   "cell_type": "code",
   "execution_count": null,
   "metadata": {},
   "outputs": [],
   "source": []
  }
 ],
 "metadata": {
  "kernelspec": {
   "display_name": "Python 3",
   "language": "python",
   "name": "python3"
  },
  "language_info": {
   "codemirror_mode": {
    "name": "ipython",
    "version": 3
   },
   "file_extension": ".py",
   "mimetype": "text/x-python",
   "name": "python",
   "nbconvert_exporter": "python",
   "pygments_lexer": "ipython3",
   "version": "3.7.4"
  }
 },
 "nbformat": 4,
 "nbformat_minor": 2
}
